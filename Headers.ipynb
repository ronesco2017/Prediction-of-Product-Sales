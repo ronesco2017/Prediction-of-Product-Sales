{
  "nbformat": 4,
  "nbformat_minor": 0,
  "metadata": {
    "colab": {
      "provenance": [],
      "authorship_tag": "ABX9TyOXJ4kHidCknSQPxyME51JI",
      "include_colab_link": true
    },
    "kernelspec": {
      "name": "python3",
      "display_name": "Python 3"
    },
    "language_info": {
      "name": "python"
    }
  },
  "cells": [
    {
      "cell_type": "markdown",
      "metadata": {
        "id": "view-in-github",
        "colab_type": "text"
      },
      "source": [
        "<a href=\"https://colab.research.google.com/github/ronesco2017/Prediction-of-Product-Sales/blob/main/Headers.ipynb\" target=\"_parent\"><img src=\"https://colab.research.google.com/assets/colab-badge.svg\" alt=\"Open In Colab\"/></a>"
      ]
    },
    {
      "cell_type": "markdown",
      "source": [
        "# Prediction of Product Sales\n"
      ],
      "metadata": {
        "id": "3kOfTUMo1DQX"
      }
    },
    {
      "cell_type": "markdown",
      "source": [
        "- Author: Ronaldo Escopete"
      ],
      "metadata": {
        "id": "xmWKKAjD1UlE"
      }
    },
    {
      "cell_type": "markdown",
      "source": [
        "## Project Overview"
      ],
      "metadata": {
        "id": "G9rrShyv1eoN"
      }
    },
    {
      "cell_type": "markdown",
      "source": [
        "## Load and Inspect Data"
      ],
      "metadata": {
        "id": "42RQTd1s1l2s"
      }
    },
    {
      "cell_type": "code",
      "source": [],
      "metadata": {
        "id": "WBQ67uox19HW"
      },
      "execution_count": null,
      "outputs": []
    },
    {
      "cell_type": "markdown",
      "source": [
        "## Clean Data"
      ],
      "metadata": {
        "id": "w3OnL8BZ1ug1"
      }
    },
    {
      "cell_type": "code",
      "source": [],
      "metadata": {
        "id": "J2GDnRyS191-"
      },
      "execution_count": null,
      "outputs": []
    },
    {
      "cell_type": "markdown",
      "source": [],
      "metadata": {
        "id": "RcDZl2MY1qbm"
      }
    },
    {
      "cell_type": "markdown",
      "source": [
        "## Exploratory Data Analysis"
      ],
      "metadata": {
        "id": "BxKt15BH2BlO"
      }
    },
    {
      "cell_type": "code",
      "source": [],
      "metadata": {
        "id": "1SfY2XZi2Dbt"
      },
      "execution_count": null,
      "outputs": []
    },
    {
      "cell_type": "markdown",
      "source": [
        "## Feature Inspection"
      ],
      "metadata": {
        "id": "KusA-7gY2HzL"
      }
    },
    {
      "cell_type": "code",
      "source": [],
      "metadata": {
        "id": "JcrTcFzY2Jk7"
      },
      "execution_count": null,
      "outputs": []
    }
  ]
}